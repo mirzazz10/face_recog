{
 "cells": [
  {
   "cell_type": "code",
   "execution_count": 1,
   "id": "8103e971-5315-45aa-8ff7-88936e811590",
   "metadata": {},
   "outputs": [],
   "source": [
    "import cv2 \n",
    "import os\n",
    "import imutils"
   ]
  },
  {
   "cell_type": "markdown",
   "id": "9e1f1648-ec8b-43b9-a546-8ba3fbd5a3dd",
   "metadata": {},
   "source": [
    "# Links used for the following code"
   ]
  },
  {
   "cell_type": "markdown",
   "id": "377f30e3-6ddc-4528-9b04-8cf3e4fd66a6",
   "metadata": {},
   "source": [
    "#### 1) https://www.geeksforgeeks.org/face-detection-using-cascade-classifier-using-opencv-python/\n",
    "2) https://pyimagesearch.com/2021/04/05/opencv-face-detection-with-haar-cascades/\n",
    "3) https://medium.com/analytics-vidhya/haar-cascades-explained-38210e57970d\n",
    "4) https://pyimagesearch.com/2018/09/24/opencv-face-recognition/ -- face net\n",
    "5) https://www.analyticsvidhya.com/blog/2021/09/adaboost-algorithm-a-complete-guide-for-beginners/ - adaboost"
   ]
  },
  {
   "cell_type": "markdown",
   "id": "00e0522e-02bf-4120-8415-373c6cce0b36",
   "metadata": {},
   "source": [
    "The below module does the following "
   ]
  },
  {
   "cell_type": "markdown",
   "id": "800d3c47-e994-4210-94b7-2875eccc0646",
   "metadata": {},
   "source": [
    "1. Detect faces using haar cascade\n",
    "2. Crop faces\n",
    "3. Visualize them "
   ]
  },
  {
   "cell_type": "code",
   "execution_count": 6,
   "id": "1b902509-e3e4-418b-9f9e-7e4ceb48583b",
   "metadata": {},
   "outputs": [],
   "source": [
    "path_to_label = \"/home/mirza/Documents/Mirza/work/MS_master_folder/Projects/Face_recog/data/Face_Recog_Data-20230202T231500Z-001/Face_Recog_Data/Aarav photos for testing/\"\n",
    "\n",
    "# make .py file with the function below and add arguments to it\n",
    "    # i) The input should be multiple paths to images\n",
    "\n",
    "\n",
    "def get_crop_faces(path):\n",
    "    print(\"[INFO] loading face detector...\")\n",
    "    haar_cascade = cv2.CascadeClassifier(\"/home/mirza/Downloads/haarcascade_frontalface_default.xml\")\n",
    "    list_images = os.listdir(path_to_label)\n",
    "    \n",
    "    # create the parent folder as dataset and save the correspoding labels\n",
    "    \n",
    "    for each in list_images:\n",
    "        each_image_org = cv2.imread(os.path.join(path_to_label,each))\n",
    "        # using imutils to keep the aspect ratio\n",
    "        each_image_gray = cv2.cvtColor(each_image_org, cv2.COLOR_BGR2GRAY)\n",
    "        each_image_gray = imutils.resize(each_image_gray, width=500)\n",
    "        print(each_image_gray.shape)\n",
    "        # Applying the face detection method on the grayscale image\n",
    "        faces_rect = haar_cascade.detectMultiScale(each_image_gray, 1.1, 9)\n",
    "        # Iterating through rectangles of detected faces\n",
    "        for (x, y, w, h) in faces_rect:\n",
    "            disp_image = cv2.rectangle(each_image_gray.copy(), (x, y), (x+w, y+h), (0, 255, 0), 2)\n",
    "        #cv2.imshow('Detected faces', disp_image)\n",
    "        \n",
    "        # crop using the coordinates\n",
    "        face_1 = each_image_org[y:y + h, x: x + w]\n",
    "        cv2.imshow('cropped faces', face_1)\n",
    "        \n",
    "        # create a folder named LABEL - Aarav\n",
    "        \n",
    "        # remove any false positives - this has to be manually \n",
    "        \n",
    "        break"
   ]
  },
  {
   "cell_type": "code",
   "execution_count": 7,
   "id": "81557294-c1cb-42f0-8ce0-d5b3cd1c6a7a",
   "metadata": {},
   "outputs": [
    {
     "name": "stdout",
     "output_type": "stream",
     "text": [
      "[INFO] loading face detector...\n",
      "(228, 500)\n"
     ]
    }
   ],
   "source": [
    "get_crop_faces(path_to_label)        \n"
   ]
  },
  {
   "cell_type": "markdown",
   "id": "794ef7ce-eee3-47a1-9aad-18993c95b77c",
   "metadata": {},
   "source": [
    "Build an image classifier \n",
    "\n",
    "https://www.cv-foundation.org/openaccess/content_cvpr_2015/app/1A_089.pdf\n",
    "\n",
    "Step #1: Extract embeddings from face dataset\n",
    "    i) Literature review for embedding and facenet svm\n",
    "    \n",
    "\n"
   ]
  },
  {
   "cell_type": "code",
   "execution_count": null,
   "id": "fbad0349-0376-4277-bed2-e6e00f894b0e",
   "metadata": {},
   "outputs": [],
   "source": []
  }
 ],
 "metadata": {
  "kernelspec": {
   "display_name": "Python 3 (ipykernel)",
   "language": "python",
   "name": "python3"
  },
  "language_info": {
   "codemirror_mode": {
    "name": "ipython",
    "version": 3
   },
   "file_extension": ".py",
   "mimetype": "text/x-python",
   "name": "python",
   "nbconvert_exporter": "python",
   "pygments_lexer": "ipython3",
   "version": "3.8.10"
  }
 },
 "nbformat": 4,
 "nbformat_minor": 5
}
