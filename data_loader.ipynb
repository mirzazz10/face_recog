{
 "cells": [
  {
   "cell_type": "code",
   "execution_count": 3,
   "id": "8103e971-5315-45aa-8ff7-88936e811590",
   "metadata": {},
   "outputs": [],
   "source": [
    "import cv2 \n",
    "import os\n",
    "import imutils"
   ]
  },
  {
   "cell_type": "markdown",
   "id": "9e1f1648-ec8b-43b9-a546-8ba3fbd5a3dd",
   "metadata": {},
   "source": [
    "# Links used for the following code"
   ]
  },
  {
   "cell_type": "markdown",
   "id": "377f30e3-6ddc-4528-9b04-8cf3e4fd66a6",
   "metadata": {},
   "source": [
    "#### 1) https://www.geeksforgeeks.org/face-detection-using-cascade-classifier-using-opencv-python/\n",
    "2) https://pyimagesearch.com/2021/04/05/opencv-face-detection-with-haar-cascades/\n",
    "3) https://medium.com/analytics-vidhya/haar-cascades-explained-38210e57970d\n",
    "4) https://pyimagesearch.com/2018/09/24/opencv-face-recognition/ -- face net\n",
    "5) https://www.analyticsvidhya.com/blog/2021/09/adaboost-algorithm-a-complete-guide-for-beginners/ - adaboost"
   ]
  },
  {
   "cell_type": "markdown",
   "id": "00e0522e-02bf-4120-8415-373c6cce0b36",
   "metadata": {},
   "source": [
    "The below module does the following "
   ]
  },
  {
   "cell_type": "markdown",
   "id": "800d3c47-e994-4210-94b7-2875eccc0646",
   "metadata": {},
   "source": [
    "1. Detect faces using haar cascade\n",
    "2. Crop faces\n",
    "3. Visualize them "
   ]
  },
  {
   "cell_type": "code",
   "execution_count": null,
   "id": "c22cb58a-0ae1-420f-ade1-2d9f138c4001",
   "metadata": {},
   "outputs": [
    {
     "data": {
      "text/plain": [
       "< cv2.CascadeClassifier 0000023A15877AB0>"
      ]
     },
     "execution_count": 4,
     "metadata": {},
     "output_type": "execute_result"
    }
   ],
   "source": [
    "cv2.CascadeClassifier()"
   ]
  },
  {
   "cell_type": "code",
   "execution_count": 76,
   "id": "4912f5c9-d644-49dc-96a9-14d72d7dfe78",
   "metadata": {
    "tags": []
   },
   "outputs": [
    {
     "name": "stdout",
     "output_type": "stream",
     "text": [
      "(2040, 1536, 3)\n"
     ]
    }
   ],
   "source": []
  },
  {
   "cell_type": "code",
   "execution_count": 23,
   "id": "1b902509-e3e4-418b-9f9e-7e4ceb48583b",
   "metadata": {},
   "outputs": [],
   "source": [
    "# make this as a user input \n",
    "\n",
    "path_to_raw_data = \"C:\\\\Users\\\\mirza\\\\ASU\\\\my_projects\\\\face_recog\\\\Face_recog\\\\data\\\\\"\n",
    "dataset_path = \"C:\\\\Users\\\\mirza\\\\ASU\\\\my_projects\\\\face_recog\\\\Face_recog\\\\dataset\\\\\"\n",
    "# make .py file with the function below and add arguments to it\n",
    "    # i) The input should be multiple paths to images\n",
    "\n",
    "#labels = [\"Aarav\", \"Raghav\", \"Others\"]\n",
    "    \n",
    "\n",
    "def get_crop_faces(path_to_raw_data, dataset_path):\n",
    "    print(\"[INFO] loading face detector...\")\n",
    "    haar_cascade = cv2.CascadeClassifier(r\"C:\\Users\\mirza\\AppData\\Local\\Programs\\Python\\Python311\\Lib\\site-packages\\cv2\\data\\haarcascade_frontalface_default.xml\")\n",
    "    labels = os.listdir(path_to_raw_data)\n",
    "    for each in labels:\n",
    "        os.makedirs(dataset_path + each, exist_ok = True)\n",
    "    # create the parent folder as dataset and save the correspoding labels\n",
    "    i = 0\n",
    "    for each_label in labels:\n",
    "        list_images = os.listdir(os.path.join(path_to_raw_data, each_label))\n",
    "        for each_image in list_images:      \n",
    "            path_to_image = os.path.join(path_to_raw_data,each_label,each_image)        \n",
    "            print(path_to_image)\n",
    "            each_image_org = cv2.imread(os.path.join(path_to_image))\n",
    "            # using imutils to keep the aspect ratio\n",
    "            each_image_gray = cv2.cvtColor(each_image_org, cv2.COLOR_BGR2GRAY)\n",
    "            each_image_gray = imutils.resize(each_image_gray, width=700)\n",
    "            print(each_image_gray.shape)\n",
    "            # Applying the face detection method on the grayscale image\n",
    "            faces_rect = haar_cascade.detectMultiScale(each_image_gray, 1.1, 9)\n",
    "            print(faces_rect)\n",
    "            # Iterating through rectangles of detected faces\n",
    "            detect_face_flag = True\n",
    "            if len(faces_rect) == 0:\n",
    "                print(\"Couldnt detect any face\")\n",
    "                detect_face_flag = False                \n",
    "            if not detect_face_flag:\n",
    "                # save the undetected images and manually do it, or find some other way\n",
    "                continue\n",
    "            #for (x, y, w, h) in faces_rect:            \n",
    "                #print(x, y, w, h)\n",
    "                #disp_image = cv2.rectangle(each_image_gray.copy(), (x, y), (x+w, y+h), (0, 255, 0), 2)\n",
    "            #cv2.imshow('Detected faces', disp_image)\n",
    "            # crop using the coordinates\n",
    "            face_1 = each_image_gray[faces_rect[0][1]:faces_rect[0][1] + faces_rect[0][3], faces_rect[0][0]: faces_rect[0][0] + faces_rect[0][2]]\n",
    "            #each_image_org[faces_rect[0][1]:faces_rect[0][1] + faces_rect[0][3], faces_rect[0][0]: faces_rect[0][0] + faces_rect[0][2]]\n",
    "            cv2.imwrite(os.path.join(dataset_path, each_label, each_image), face_1)\n",
    "            i += 1"
   ]
  },
  {
   "cell_type": "code",
   "execution_count": null,
   "id": "c3f259e4-1c69-4180-98ac-122063960fbc",
   "metadata": {},
   "outputs": [],
   "source": [
    "# experiment the code with different methods:\n",
    "    # instead of gray scaling the images\n",
    "    # change the resize variable\n",
    "\n",
    "    \n",
    "# theory \n",
    "    # 1) Understand images as a matrix\n",
    "    # 2) Understand matrix can also be viewed as functions and transformations, \n",
    "    # 3) \n"
   ]
  },
  {
   "cell_type": "code",
   "execution_count": 24,
   "id": "81557294-c1cb-42f0-8ce0-d5b3cd1c6a7a",
   "metadata": {},
   "outputs": [
    {
     "name": "stdout",
     "output_type": "stream",
     "text": [
      "[INFO] loading face detector...\n",
      "C:\\Users\\mirza\\ASU\\my_projects\\face_recog\\Face_recog\\data\\Aarav\\Aarav1.jpg\n",
      "(929, 700)\n",
      "[[203 330  89  89]]\n",
      "C:\\Users\\mirza\\ASU\\my_projects\\face_recog\\Face_recog\\data\\Aarav\\Aarav10.jpg\n",
      "(319, 700)\n",
      "[[313 161  46  46]]\n",
      "C:\\Users\\mirza\\ASU\\my_projects\\face_recog\\Face_recog\\data\\Aarav\\Aarav2.jpg\n",
      "(933, 700)\n",
      "[[161 168 322 322]\n",
      " [192 785  71  71]]\n",
      "C:\\Users\\mirza\\ASU\\my_projects\\face_recog\\Face_recog\\data\\Aarav\\Aarav3.jpg\n",
      "(933, 700)\n",
      "[[182 257 401 401]]\n",
      "C:\\Users\\mirza\\ASU\\my_projects\\face_recog\\Face_recog\\data\\Aarav\\Aarav4.jpg\n",
      "(933, 700)\n",
      "[[200 325 284 284]]\n",
      "C:\\Users\\mirza\\ASU\\my_projects\\face_recog\\Face_recog\\data\\Aarav\\Aarav5.jpg\n",
      "(929, 700)\n",
      "[[284 155  94  94]]\n",
      "C:\\Users\\mirza\\ASU\\my_projects\\face_recog\\Face_recog\\data\\Aarav\\Aarav6.jpg\n",
      "(525, 700)\n",
      "[[134 110 197 197]]\n",
      "C:\\Users\\mirza\\ASU\\my_projects\\face_recog\\Face_recog\\data\\Aarav\\Aarav7.jpg\n",
      "(929, 700)\n",
      "[[349 367  58  58]]\n",
      "C:\\Users\\mirza\\ASU\\my_projects\\face_recog\\Face_recog\\data\\Aarav\\Aarav8.jpg\n",
      "(525, 700)\n",
      "[[112 155 186 186]]\n",
      "C:\\Users\\mirza\\ASU\\my_projects\\face_recog\\Face_recog\\data\\Aarav\\Aarav9.jpg\n",
      "(929, 700)\n",
      "[[458 512  60  60]]\n",
      "C:\\Users\\mirza\\ASU\\my_projects\\face_recog\\Face_recog\\data\\Raghav\\Raghav1.jpg\n",
      "(933, 700)\n",
      "[[218 251 173 173]]\n",
      "C:\\Users\\mirza\\ASU\\my_projects\\face_recog\\Face_recog\\data\\Raghav\\Raghav10.jpg\n",
      "(933, 700)\n",
      "[[106 176 279 279]]\n",
      "C:\\Users\\mirza\\ASU\\my_projects\\face_recog\\Face_recog\\data\\Raghav\\Raghav2.jpg\n",
      "(696, 700)\n",
      "[[257  45 169 169]]\n",
      "C:\\Users\\mirza\\ASU\\my_projects\\face_recog\\Face_recog\\data\\Raghav\\Raghav3.jpg\n",
      "(973, 700)\n",
      "[[356 869  73  73]\n",
      " [210 119 220 220]]\n",
      "C:\\Users\\mirza\\ASU\\my_projects\\face_recog\\Face_recog\\data\\Raghav\\Raghav4.jpg\n",
      "(933, 700)\n",
      "[[468 207  71  71]]\n",
      "C:\\Users\\mirza\\ASU\\my_projects\\face_recog\\Face_recog\\data\\Raghav\\Raghav5.jpg\n",
      "(1244, 700)\n",
      "()\n",
      "Couldnt detect any face\n",
      "C:\\Users\\mirza\\ASU\\my_projects\\face_recog\\Face_recog\\data\\Raghav\\Raghav6.jpg\n",
      "(1244, 700)\n",
      "[[286 318 149 149]]\n",
      "C:\\Users\\mirza\\ASU\\my_projects\\face_recog\\Face_recog\\data\\Raghav\\Raghav7.jpg\n",
      "(933, 700)\n",
      "[[245 298  78  78]]\n",
      "C:\\Users\\mirza\\ASU\\my_projects\\face_recog\\Face_recog\\data\\Raghav\\Raghav8.jpg\n",
      "(828, 700)\n",
      "[[227 122 177 177]]\n",
      "C:\\Users\\mirza\\ASU\\my_projects\\face_recog\\Face_recog\\data\\Raghav\\Raghav9.jpg\n",
      "(1244, 700)\n",
      "[[102 264 428 428]]\n"
     ]
    }
   ],
   "source": [
    "get_crop_faces(path_to_raw_data, dataset_path)        \n",
    "# remove any false positives - this has to be manually "
   ]
  },
  {
   "cell_type": "markdown",
   "id": "794ef7ce-eee3-47a1-9aad-18993c95b77c",
   "metadata": {},
   "source": [
    "Build an image classifier \n",
    "\n",
    "https://www.cv-foundation.org/openaccess/content_cvpr_2015/app/1A_089.pdf\n",
    "\n",
    "Step #1: Extract embeddings from face dataset\n",
    "    i) Literature review for embedding and facenet svm\n",
    "    \n",
    "\n"
   ]
  },
  {
   "cell_type": "code",
   "execution_count": null,
   "id": "fbad0349-0376-4277-bed2-e6e00f894b0e",
   "metadata": {},
   "outputs": [],
   "source": [
    "#"
   ]
  }
 ],
 "metadata": {
  "kernelspec": {
   "display_name": "Python 3 (ipykernel)",
   "language": "python",
   "name": "python3"
  },
  "language_info": {
   "codemirror_mode": {
    "name": "ipython",
    "version": 3
   },
   "file_extension": ".py",
   "mimetype": "text/x-python",
   "name": "python",
   "nbconvert_exporter": "python",
   "pygments_lexer": "ipython3",
   "version": "3.11.1"
  }
 },
 "nbformat": 4,
 "nbformat_minor": 5
}
